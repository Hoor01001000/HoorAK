{
  "nbformat": 4,
  "nbformat_minor": 0,
  "metadata": {
    "colab": {
      "provenance": [],
      "authorship_tag": "ABX9TyPwA3AR68mffyC/kp1ta1CC",
      "include_colab_link": true
    },
    "kernelspec": {
      "name": "python3",
      "display_name": "Python 3"
    },
    "language_info": {
      "name": "python"
    }
  },
  "cells": [
    {
      "cell_type": "markdown",
      "metadata": {
        "id": "view-in-github",
        "colab_type": "text"
      },
      "source": [
        "<a href=\"https://colab.research.google.com/github/Hoor01001000/HoorAK/blob/main/Enhancing_Data_Quality_in_Data_Warehouses_Using_AI_dashboard_tool_using_Streamlit.ipynb\" target=\"_parent\"><img src=\"https://colab.research.google.com/assets/colab-badge.svg\" alt=\"Open In Colab\"/></a>"
      ]
    },
    {
      "cell_type": "code",
      "execution_count": 1,
      "metadata": {
        "id": "8vIxbQ9kaSB2",
        "colab": {
          "base_uri": "https://localhost:8080/"
        },
        "outputId": "c5b221ad-47eb-4d3b-d19d-36cf58a990fd"
      },
      "outputs": [
        {
          "output_type": "stream",
          "name": "stdout",
          "text": [
            "\u001b[2K     \u001b[90m━━━━━━━━━━━━━━━━━━━━━━━━━━━━━━━━━━━━━━━━\u001b[0m \u001b[32m44.3/44.3 kB\u001b[0m \u001b[31m2.5 MB/s\u001b[0m eta \u001b[36m0:00:00\u001b[0m\n",
            "\u001b[2K   \u001b[90m━━━━━━━━━━━━━━━━━━━━━━━━━━━━━━━━━━━━━━━━\u001b[0m \u001b[32m9.9/9.9 MB\u001b[0m \u001b[31m76.2 MB/s\u001b[0m eta \u001b[36m0:00:00\u001b[0m\n",
            "\u001b[2K   \u001b[90m━━━━━━━━━━━━━━━━━━━━━━━━━━━━━━━━━━━━━━━━\u001b[0m \u001b[32m6.9/6.9 MB\u001b[0m \u001b[31m92.9 MB/s\u001b[0m eta \u001b[36m0:00:00\u001b[0m\n",
            "\u001b[2K   \u001b[90m━━━━━━━━━━━━━━━━━━━━━━━━━━━━━━━━━━━━━━━━\u001b[0m \u001b[32m79.1/79.1 kB\u001b[0m \u001b[31m5.1 MB/s\u001b[0m eta \u001b[36m0:00:00\u001b[0m\n",
            "\u001b[?25h"
          ]
        }
      ],
      "source": [
        "!pip install streamlit pyngrok --quiet\n",
        "from pyngrok import ngrok\n",
        "import pandas as pd\n",
        "import streamlit as st\n",
        "from sklearn.ensemble import IsolationForest\n",
        "from sklearn.impute import KNNImputer"
      ]
    },
    {
      "cell_type": "code",
      "source": [
        "df = pd.read_csv(\"All Electronics.csv\")"
      ],
      "metadata": {
        "id": "4_VNrYvxaiik"
      },
      "execution_count": 2,
      "outputs": []
    },
    {
      "cell_type": "code",
      "source": [
        "code = '''\n",
        "import streamlit as st\n",
        "import pandas as pd\n",
        "from sklearn.impute import KNNImputer\n",
        "from sklearn.ensemble import IsolationForest\n",
        "\n",
        "st.set_page_config(page_title=\"AI Data Quality Tool\", layout=\"wide\")\n",
        "st.title(\"AI-Powered Data Quality Dashboard\")\n",
        "\n",
        "df = pd.read_csv(\"All Electronics.csv\")\n",
        "\n",
        "st.subheader(\"Original Dataset Preview\")\n",
        "st.dataframe(df.head())\n",
        "\n",
        "df['ratings'] = pd.to_numeric(df['ratings'], errors='coerce')\n",
        "df['no_of_ratings'] = df['no_of_ratings'].astype(str).str.replace(\",\", \"\")\n",
        "df['no_of_ratings'] = pd.to_numeric(df['no_of_ratings'], errors='coerce')\n",
        "df['discount_price'] = df['discount_price'].astype(str).str.replace(\"₹\", \"\").str.replace(\",\", \"\")\n",
        "df['actual_price'] = df['actual_price'].astype(str).str.replace(\"₹\", \"\").str.replace(\",\", \"\")\n",
        "df['discount_price'] = pd.to_numeric(df['discount_price'], errors='coerce')\n",
        "df['actual_price'] = pd.to_numeric(df['actual_price'], errors='coerce')\n",
        "\n",
        "st.subheader(\" Missing Value Overview\")\n",
        "missing_vals = df.isnull().sum()\n",
        "st.write(missing_vals[missing_vals > 0])\n",
        "\n",
        "st.subheader(\"KNN Imputation for Missing Values\")\n",
        "k = st.slider(\"Choose number of neighbors (K)\", 1, 10, 5)\n",
        "imputer = KNNImputer(n_neighbors=k)\n",
        "numeric_cols = ['ratings', 'no_of_ratings', 'discount_price', 'actual_price']\n",
        "df_imputed = df.copy()\n",
        "df_imputed[numeric_cols] = imputer.fit_transform(df_imputed[numeric_cols])\n",
        "st.success(\"Missing values filled using KNN\")\n",
        "\n",
        "st.subheader(\"Anomaly Detection (Isolation Forest)\")\n",
        "contamination = st.slider(\"Contamination Rate\", 0.01, 0.1, 0.02)\n",
        "iso = IsolationForest(contamination=contamination, random_state=42)\n",
        "df_imputed['anomaly'] = iso.fit_predict(df_imputed[numeric_cols])\n",
        "anomalies = df_imputed[df_imputed['anomaly'] == -1]\n",
        "st.warning(f\"Detected {len(anomalies)} anomalies\")\n",
        "st.dataframe(anomalies.head())\n",
        "\n",
        "st.subheader(\"Cleaned Dataset\")\n",
        "df_cleaned = df_imputed.drop(columns='anomaly')\n",
        "st.dataframe(df_cleaned.head())\n",
        "\n",
        "csv = df_cleaned.to_csv(index=False).encode('utf-8')\n",
        "st.download_button(\"Download Cleaned Dataset\", csv, \"cleaned_data.csv\", \"text/csv\")\n",
        "'''\n",
        "\n",
        "with open(\"python.py\", \"w\") as f:\n",
        "    f.write(code)"
      ],
      "metadata": {
        "id": "nSrhQC_gail7"
      },
      "execution_count": 3,
      "outputs": []
    },
    {
      "cell_type": "code",
      "source": [
        "!streamlit run python.py &> /dev/null &"
      ],
      "metadata": {
        "id": "-gpt9rn_e4aV"
      },
      "execution_count": 4,
      "outputs": []
    },
    {
      "cell_type": "code",
      "source": [
        "from pyngrok import conf\n",
        "conf.get_default().auth_token = \"2vfT03bkXAM6hmeTmSNZeTWPoA6_49eMptgEKBnibB4jJWqUX\""
      ],
      "metadata": {
        "id": "88GBbL4qaisK"
      },
      "execution_count": 5,
      "outputs": []
    },
    {
      "cell_type": "code",
      "source": [
        "from pyngrok import ngrok\n",
        "ngrok.kill()\n",
        "public_url = ngrok.connect(addr=\"8501\", proto=\"http\")\n",
        "print(\" Streamlit \", public_url)\n",
        "\n",
        "!streamlit run python.py &> /dev/null &"
      ],
      "metadata": {
        "colab": {
          "base_uri": "https://localhost:8080/"
        },
        "id": "FzkN_E9GaixB",
        "outputId": "01a42916-2f89-49be-cfa7-beae38ce124d"
      },
      "execution_count": 6,
      "outputs": [
        {
          "output_type": "stream",
          "name": "stdout",
          "text": [
            " Streamlit  NgrokTunnel: \"https://0b85-34-168-104-139.ngrok-free.app\" -> \"http://localhost:8501\"\n"
          ]
        }
      ]
    }
  ]
}